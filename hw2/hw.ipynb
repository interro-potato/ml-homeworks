{
 "cells": [
  {
   "cell_type": "code",
   "execution_count": 1,
   "metadata": {},
   "outputs": [
    {
     "data": {
      "image/png": "[encoded data removed]",
      "text/plain": [
       "<Figure size 1000x500 with 2 Axes>"
      ]
     },
     "metadata": {},
     "output_type": "display_data"
    }
   ],
   "source": [
    "# Using sklearn, considering a 10-fold stratified cross validation (random=0), plot the cumulative\n",
    "# testing confusion matrices of 𝑘NN (uniform weights, 𝑘 = 5, Euclidean distance) and Naïve Bayes\n",
    "# (Gaussian assumption). Use all remaining classifier parameters as default.\n",
    "\n",
    "import numpy as np\n",
    "import pandas as pd\n",
    "import matplotlib.pyplot as plt\n",
    "from sklearn.model_selection import StratifiedKFold\n",
    "from sklearn.neighbors import KNeighborsClassifier\n",
    "from sklearn.naive_bayes import GaussianNB\n",
    "from sklearn.metrics import confusion_matrix\n",
    "from scipy.io.arff import loadarff\n",
    "\n",
    "# Load data\n",
    "data = loadarff('data/pd_speech.arff')\n",
    "df = pd.DataFrame(data[0])\n",
    "df['class'] = df['class'].str.decode('utf-8')\n",
    "\n",
    "# Split data into features and labels\n",
    "X = df.drop('class', axis=1)\n",
    "y = df['class']\n",
    "\n",
    "# Create 10-fold stratified cross validation\n",
    "skf = StratifiedKFold(n_splits=10, shuffle=True, random_state=0)\n",
    "\n",
    "# Create classifier\n",
    "knn = KNeighborsClassifier(n_neighbors=5, weights='uniform', metric='euclidean')\n",
    "gnb = GaussianNB()\n",
    "\n",
    "# Create confusion matrices\n",
    "knn_cm = np.zeros((2, 2))\n",
    "gnb_cm = np.zeros((2, 2))\n",
    "\n",
    "# Iterate over folds\n",
    "for train_index, test_index in skf.split(X, y):\n",
    "    # Split data into training and testing\n",
    "    X_train, X_test = X.iloc[train_index], X.iloc[test_index]\n",
    "    y_train, y_test = y.iloc[train_index], y.iloc[test_index]\n",
    "\n",
    "    # Fit classifiers\n",
    "    knn.fit(X_train, y_train)\n",
    "    gnb.fit(X_train, y_train)\n",
    "\n",
    "    # Predict labels\n",
    "    y_pred_knn = knn.predict(X_test)\n",
    "    y_pred_gnb = gnb.predict(X_test)\n",
    "\n",
    "    # Update confusion matrices\n",
    "    knn_cm += confusion_matrix(y_test, y_pred_knn)\n",
    "    gnb_cm += confusion_matrix(y_test, y_pred_gnb)\n",
    "\n",
    "# Plot confusion matrices\n",
    "fig, ax = plt.subplots(1, 2, figsize=(10, 5))\n",
    "ax[0].imshow(knn_cm, cmap='Blues')\n",
    "ax[0].set_title('kNN')\n",
    "ax[0].set_xlabel('Predicted')\n",
    "ax[0].set_ylabel('True')\n",
    "ax[0].set_xticks([0, 1])\n",
    "ax[0].set_yticks([0, 1])\n",
    "ax[0].set_xticklabels(['1', '2'])\n",
    "ax[0].set_yticklabels(['1', '2'])\n",
    "ax[0].grid(False)\n",
    "ax[1].imshow(gnb_cm, cmap='Blues')\n",
    "ax[1].set_title('Naive Bayes')\n",
    "ax[1].set_xlabel('Predicted')\n",
    "ax[1].set_ylabel('True')\n",
    "ax[1].set_xticks([0, 1])\n",
    "ax[1].set_yticks([0, 1])\n",
    "ax[1].set_xticklabels(['1', '2'])\n",
    "ax[1].set_yticklabels(['1', '2'])\n",
    "ax[1].grid(False)\n",
    "plt.show()"
   ]
  }
 ],
 "metadata": {
  "kernelspec": {
   "display_name": "Python 3.10.7 64-bit",
   "language": "python",
   "name": "python3"
  },
  "language_info": {
   "codemirror_mode": {
    "name": "ipython",
    "version": 3
   },
   "file_extension": ".py",
   "mimetype": "text/x-python",
   "name": "python",
   "nbconvert_exporter": "python",
   "pygments_lexer": "ipython3",
   "version": "3.10.7"
  },
  "orig_nbformat": 4,
  "vscode": {
   "interpreter": {
    "hash": "e7370f93d1d0cde622a1f8e1c04877d8463912d04d973331ad4851f04de6915a"
   }
  }
 },
 "nbformat": 4,
 "nbformat_minor": 2
}

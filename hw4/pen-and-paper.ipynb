{
 "cells": [
  {
   "cell_type": "code",
   "execution_count": 50,
   "metadata": {},
   "outputs": [],
   "source": [
    "import numpy as np\n",
    "from varname import nameof\n",
    "\n",
    "# adapted from stack overflow\n",
    "def bmatrix(a, var_name):\n",
    "    \"\"\"Stores in a file a LaTeX bmatrix from a numpy array.\"\"\"\n",
    "    if len(a.shape) > 2:\n",
    "        raise ValueError('bmatrix can at most display two dimensions')\n",
    "    lines = str(a).replace('[', '').replace(']', '').splitlines()\n",
    "    rv = [r'\\begin{bmatrix}']\n",
    "    rv += ['  ' + ' & '.join([f\"{float(x):.6g}\" for x in l.split()]) + r'\\\\' for l in lines]\n",
    "    rv +=  [r'\\end{bmatrix}']\n",
    "    with open(f\"./docs/aux-matrices/{var_name}.tex\", 'w+') as f:\n",
    "      f.write('\\n'.join(rv))"
   ]
  },
  {
   "cell_type": "markdown",
   "metadata": {},
   "source": [
    "# 1."
   ]
  },
  {
   "cell_type": "code",
   "execution_count": 51,
   "metadata": {},
   "outputs": [],
   "source": [
    "# Initial data\n",
    "\n",
    "x_1 = np.array([[1], [2]])\n",
    "x_2 = np.array([[-1], [1]])\n",
    "x_3 = np.array([[1], [0]])\n",
    "\n",
    "mu_1 = np.array([[2], [2]])\n",
    "mu_2 = np.array([[0], [0]])\n",
    "\n",
    "Sigma_1 = np.array([[2, 1], [1, 2]])\n",
    "Sigma_2 = np.array([[2, 0], [0, 2]])\n",
    "\n",
    "bmatrix(x_1, nameof(x_1))\n",
    "bmatrix(x_2, nameof(x_2))\n",
    "bmatrix(x_3, nameof(x_3))\n",
    "\n",
    "bmatrix(mu_1, nameof(mu_1))\n",
    "bmatrix(mu_2, nameof(mu_2))\n",
    "\n",
    "bmatrix(Sigma_1, nameof(Sigma_1))\n",
    "bmatrix(Sigma_2, nameof(Sigma_2))"
   ]
  },
  {
   "cell_type": "code",
   "execution_count": 52,
   "metadata": {},
   "outputs": [],
   "source": [
    "from scipy.stats import multivariate_normal\n",
    "\n",
    "def calc_likelihoods(x, mu_1, mu_2, Sigma_1, Sigma_2):\n",
    "  likelihood_1 = multivariate_normal(mu_1, Sigma_1).pdf(x.T)\n",
    "  likelihood_2 = multivariate_normal(mu_2, Sigma_2).pdf(x.T)\n",
    "  return np.array([likelihood_1, likelihood_2])\n",
    "\n",
    "def calc_posteriors(priors, likelihoods):\n",
    "  posteriors = np.array([])\n",
    "  for i in range(len(priors)):\n",
    "    posteriors = np.append(posteriors, priors[i] * likelihoods[i])\n",
    "\n",
    "  return posteriors / np.sum(posteriors) # normalize\n",
    "\n",
    "def update_means(k1_posteriors, k2_posteriors):\n",
    "  mu_1 = np.zeros((2, 1), dtype=float)\n",
    "  mu_2 = np.zeros((2, 1), dtype=float)\n",
    "\n",
    "  for i in range(len(k1_posteriors)):\n",
    "    x = eval(f'x_{i+1}')\n",
    "    mu_1 += k1_posteriors[i] * x\n",
    "    mu_2 += k2_posteriors[i] * x\n",
    "\n",
    "  return mu_1 / np.sum(k1_posteriors), mu_2 / np.sum(k2_posteriors)\n",
    "\n",
    "def update_covs(k1_posteriors, k2_posteriors, mu_1, mu_2):\n",
    "  Sigma_1 = np.zeros((2, 2), dtype=float)\n",
    "  Sigma_2 = np.zeros((2, 2), dtype=float)\n",
    "\n",
    "  for i in range(len(k1_posteriors)):\n",
    "    x = eval(f'x_{i+1}')\n",
    "    Sigma_1 += k1_posteriors[i] * (x - mu_1) @ (x - mu_1).T\n",
    "    Sigma_2 += k2_posteriors[i] * (x - mu_2) @ (x - mu_2).T\n",
    "\n",
    "  return Sigma_1 / np.sum(k1_posteriors), Sigma_2 / np.sum(k2_posteriors)\n",
    "\n",
    "def update_priors(k1_posteriors, k2_posteriors):\n",
    "  total = np.sum(k1_posteriors) + np.sum(k2_posteriors)\n",
    "  return np.sum(k1_posteriors) / total, np.sum(k2_posteriors) / total"
   ]
  },
  {
   "cell_type": "code",
   "execution_count": 53,
   "metadata": {},
   "outputs": [
    {
     "name": "stdout",
     "output_type": "stream",
     "text": [
      "p(x_1 | C = k_1) = 0.0658407\n",
      "p(x_1 | C = k_2) = 0.0227993\n",
      "p(x_2 | C = k_1) = 0.00891057\n",
      "p(x_2 | C = k_2) = 0.0482662\n",
      "p(x_3 | C = k_1) = 0.0338038\n",
      "p(x_3 | C = k_2) = 0.061975\n"
     ]
    }
   ],
   "source": [
    "# because scipy is icky\n",
    "mu_1_vector = mu_1.transpose()[0]\n",
    "mu_2_vector = mu_2.transpose()[0]\n",
    "\n",
    "priors = np.array([0.5, 0.5])\n",
    "\n",
    "p_x_1_given_k_1, p_x_1_given_k_2 = calc_likelihoods(x_1, mu_1_vector, mu_2_vector, Sigma_1, Sigma_2)\n",
    "p_x_2_given_k_1, p_x_2_given_k_2 = calc_likelihoods(x_2, mu_1_vector, mu_2_vector, Sigma_1, Sigma_2)\n",
    "p_x_3_given_k_1, p_x_3_given_k_2 = calc_likelihoods(x_3, mu_1_vector, mu_2_vector, Sigma_1, Sigma_2)\n",
    "\n",
    "for i in range(1, 4):\n",
    "  for j in range(1, 3):\n",
    "    print(f\"p(x_{i} | C = k_{j}) = {eval(f'p_x_{i}_given_k_{j}'):0.6g}\")"
   ]
  },
  {
   "cell_type": "code",
   "execution_count": 54,
   "metadata": {},
   "outputs": [
    {
     "name": "stdout",
     "output_type": "stream",
     "text": [
      "p(C = k_1 | x_1) = 0.742788\n",
      "p(C = k_2 | x_1) = 0.257212\n",
      "p(C = k_1 | x_2) = 0.155843\n",
      "p(C = k_2 | x_2) = 0.844157\n",
      "p(C = k_1 | x_3) = 0.352936\n",
      "p(C = k_2 | x_3) = 0.647064\n"
     ]
    }
   ],
   "source": [
    "posteriors_x_1 = calc_posteriors(priors, [p_x_1_given_k_1, p_x_1_given_k_2])\n",
    "posteriors_x_2 = calc_posteriors(priors, [p_x_2_given_k_1, p_x_2_given_k_2])\n",
    "posteriors_x_3 = calc_posteriors(priors, [p_x_3_given_k_1, p_x_3_given_k_2])\n",
    "\n",
    "for i in range(1, 4):\n",
    "  for j in range(1, 3):\n",
    "    print(f\"p(C = k_{j} | x_{i}) = {eval(f'posteriors_x_{i}')[j - 1]:0.6g}\")\n",
    "\n",
    "k1_posteriors = np.array([posteriors_x_1[0], posteriors_x_2[0], posteriors_x_3[0]])\n",
    "k2_posteriors = np.array([posteriors_x_1[1], posteriors_x_2[1], posteriors_x_3[1]])"
   ]
  },
  {
   "cell_type": "code",
   "execution_count": 55,
   "metadata": {},
   "outputs": [],
   "source": [
    "# update the parameters\n",
    "\n",
    "mu_1_after_update, mu_2_after_update = update_means(k1_posteriors, k2_posteriors)\n",
    "Sigma_1_after_update, Sigma_2_after_update = update_covs(k1_posteriors, k2_posteriors, mu_1_after_update, mu_2_after_update)\n",
    "\n",
    "bmatrix(mu_1_after_update, nameof(mu_1_after_update))\n",
    "bmatrix(mu_2_after_update, nameof(mu_2_after_update))\n",
    "bmatrix(Sigma_1_after_update, nameof(Sigma_1_after_update))\n",
    "bmatrix(Sigma_2_after_update, nameof(Sigma_2_after_update))\n"
   ]
  },
  {
   "cell_type": "code",
   "execution_count": 56,
   "metadata": {},
   "outputs": [
    {
     "name": "stdout",
     "output_type": "stream",
     "text": [
      "p(C = k_1) = 0.417189\n",
      "p(C = k_2) = 0.582811\n"
     ]
    }
   ],
   "source": [
    "# update the priors\n",
    "\n",
    "priors_after_update = update_priors(k1_posteriors, k2_posteriors)\n",
    "prior_1_update, prior_2_update = priors_after_update\n",
    "\n",
    "print(f\"p(C = k_1) = {prior_1_update:0.6g}\")\n",
    "print(f\"p(C = k_2) = {prior_2_update:0.6g}\")"
   ]
  },
  {
   "cell_type": "markdown",
   "metadata": {},
   "source": [
    "# 2."
   ]
  },
  {
   "cell_type": "markdown",
   "metadata": {},
   "source": [
    "### a)"
   ]
  },
  {
   "cell_type": "code",
   "execution_count": 57,
   "metadata": {},
   "outputs": [
    {
     "name": "stdout",
     "output_type": "stream",
     "text": [
      "p(x_1 | C = k_1) = 0.1957\n",
      "p(C = k_1 | x_1) = 0.91198\n",
      "p(x_1 | C = k_2) = 0.01352\n",
      "p(C = k_2 | x_1) = 0.088017\n",
      "p(x_2 | C = k_1) = 0.0081953\n",
      "p(C = k_1 | x_2) = 0.039237\n",
      "p(x_2 | C = k_2) = 0.14365\n",
      "p(C = k_2 | x_2) = 0.96076\n",
      "p(x_3 | C = k_1) = 0.077166\n",
      "p(C = k_1 | x_3) = 0.34519\n",
      "p(x_3 | C = k_2) = 0.10478\n",
      "p(C = k_2 | x_3) = 0.65481\n",
      "Hard assignments: [1 2 2]\n"
     ]
    }
   ],
   "source": [
    "# Given the updated parameters computed in previous question,\n",
    "# Perform a hard assignment of observations to clusters under a MAP assumption.\n",
    "\n",
    "mu_1_after_update_vector = mu_1_after_update.transpose()[0]\n",
    "mu_2_after_update_vector = mu_2_after_update.transpose()[0]\n",
    "\n",
    "updated_p_x_1_given_k_1, updated_p_x_1_given_k_2 = calc_likelihoods(x_1, mu_1_after_update_vector, mu_2_after_update_vector, Sigma_1_after_update, Sigma_2_after_update)\n",
    "updated_p_x_2_given_k_1, updated_p_x_2_given_k_2 = calc_likelihoods(x_2, mu_1_after_update_vector, mu_2_after_update_vector, Sigma_1_after_update, Sigma_2_after_update)\n",
    "updated_p_x_3_given_k_1, updated_p_x_3_given_k_2 = calc_likelihoods(x_3, mu_1_after_update_vector, mu_2_after_update_vector, Sigma_1_after_update, Sigma_2_after_update)\n",
    "\n",
    "updated_posteriors_x_1 = calc_posteriors(priors_after_update, [updated_p_x_1_given_k_1, updated_p_x_1_given_k_2])\n",
    "updated_posteriors_x_2 = calc_posteriors(priors_after_update, [updated_p_x_2_given_k_1, updated_p_x_2_given_k_2])\n",
    "updated_posteriors_x_3 = calc_posteriors(priors_after_update, [updated_p_x_3_given_k_1, updated_p_x_3_given_k_2])\n",
    "\n",
    "for i in range(1, 4):\n",
    "  for j in range(1, 3):\n",
    "    print(f\"p(x_{i} | C = k_{j}) = {eval(f'updated_p_x_{i}_given_k_{j}'):0.5g}\")\n",
    "    print(f\"p(C = k_{j} | x_{i}) = {eval(f'updated_posteriors_x_{i}')[j - 1]:0.5g}\")\n",
    "\n",
    "# print the hard assignments\n",
    "\n",
    "hard_assignments = np.argmax(np.array([updated_posteriors_x_1, updated_posteriors_x_2, updated_posteriors_x_3]), axis=1) + 1\n",
    "print(f\"Hard assignments: {hard_assignments}\")"
   ]
  },
  {
   "cell_type": "markdown",
   "metadata": {},
   "source": [
    "### b)"
   ]
  },
  {
   "cell_type": "code",
   "execution_count": 58,
   "metadata": {},
   "outputs": [
    {
     "name": "stdout",
     "output_type": "stream",
     "text": [
      "norm(x1, x2) = 2.2361\n",
      "norm(x2, x3) = 2.2361\n",
      "norm(x1, x3) = 2\n"
     ]
    }
   ],
   "source": [
    "# Calculate the norm between x1 and x2, x2 and x3, x1 and x3\n",
    "\n",
    "norm_x1_x2 = np.linalg.norm(x_1 - x_2)\n",
    "norm_x2_x3 = np.linalg.norm(x_2 - x_3)\n",
    "norm_x1_x3 = np.linalg.norm(x_1 - x_3)\n",
    "\n",
    "print(f\"norm(x1, x2) = {norm_x1_x2:0.5g}\")\n",
    "print(f\"norm(x2, x3) = {norm_x2_x3:0.5g}\")\n",
    "print(f\"norm(x1, x3) = {norm_x1_x3:0.5g}\")"
   ]
  }
 ],
 "metadata": {
  "kernelspec": {
   "display_name": "Python 3.10.8 64-bit",
   "language": "python",
   "name": "python3"
  },
  "language_info": {
   "codemirror_mode": {
    "name": "ipython",
    "version": 3
   },
   "file_extension": ".py",
   "mimetype": "text/x-python",
   "name": "python",
   "nbconvert_exporter": "python",
   "pygments_lexer": "ipython3",
   "version": "3.10.8"
  },
  "orig_nbformat": 4,
  "vscode": {
   "interpreter": {
    "hash": "e7370f93d1d0cde622a1f8e1c04877d8463912d04d973331ad4851f04de6915a"
   }
  }
 },
 "nbformat": 4,
 "nbformat_minor": 2
}

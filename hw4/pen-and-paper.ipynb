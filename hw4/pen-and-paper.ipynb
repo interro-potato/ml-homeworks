{
 "cells": [
  {
   "cell_type": "code",
   "execution_count": 65,
   "metadata": {},
   "outputs": [],
   "source": [
    "import numpy as np\n",
    "from varname import nameof\n",
    "\n",
    "# adapted from stack overflow\n",
    "def bmatrix(a, var_name):\n",
    "    \"\"\"Stores in a file a LaTeX bmatrix from a numpy array.\"\"\"\n",
    "    if len(a.shape) > 2:\n",
    "        raise ValueError('bmatrix can at most display two dimensions')\n",
    "    lines = str(a).replace('[', '').replace(']', '').splitlines()\n",
    "    rv = [r'\\begin{bmatrix}']\n",
    "    rv += ['  ' + ' & '.join([f\"{float(x):.6g}\" for x in l.split()]) + r'\\\\' for l in lines]\n",
    "    rv +=  [r'\\end{bmatrix}']\n",
    "    with open(f\"./docs/aux-matrices/{var_name}.tex\", 'w+') as f:\n",
    "      f.write('\\n'.join(rv))"
   ]
  },
  {
   "cell_type": "code",
   "execution_count": 66,
   "metadata": {},
   "outputs": [],
   "source": [
    "x_1 = np.array([[1], [2]])\n",
    "x_2 = np.array([[-1], [1]])\n",
    "x_3 = np.array([[1], [0]])\n",
    "\n",
    "mu_1 = np.array([[2], [2]])\n",
    "mu_2 = np.array([[0], [0]])\n",
    "\n",
    "Sigma_1 = np.array([[2, 1], [1, 2]])\n",
    "Sigma_2 = np.array([[2, 0], [0, 2]])\n",
    "\n",
    "bmatrix(x_1, nameof(x_1))\n",
    "bmatrix(x_2, nameof(x_2))\n",
    "bmatrix(x_3, nameof(x_3))\n",
    "\n",
    "bmatrix(mu_1, nameof(mu_1))\n",
    "bmatrix(mu_2, nameof(mu_2))\n",
    "\n",
    "bmatrix(Sigma_1, nameof(Sigma_1))\n",
    "bmatrix(Sigma_2, nameof(Sigma_2))"
   ]
  },
  {
   "cell_type": "code",
   "execution_count": 67,
   "metadata": {},
   "outputs": [
    {
     "name": "stdout",
     "output_type": "stream",
     "text": [
      "p(x_1 | C = k_1) = 0.0658407\n",
      "p(x_1 | C = k_2) = 0.0227993\n",
      "p(x_2 | C = k_1) = 0.00891057\n",
      "p(x_2 | C = k_2) = 0.0482662\n",
      "p(x_3 | C = k_1) = 0.0338038\n",
      "p(x_3 | C = k_2) = 0.061975\n"
     ]
    }
   ],
   "source": [
    "from scipy.stats import multivariate_normal\n",
    "\n",
    "# because scipy is icky\n",
    "mu_1_vector = np.array([2, 2])\n",
    "mu_2_vector = np.array([0, 0])\n",
    "\n",
    "p_k1 = 0.5\n",
    "p_k2 = 0.5\n",
    "\n",
    "p_x_1_given_k_1 = multivariate_normal(mu_1_vector, Sigma_1).pdf(x_1.T)\n",
    "p_x_1_given_k_2 = multivariate_normal(mu_2_vector, Sigma_2).pdf(x_1.T)\n",
    "p_x_2_given_k_1 = multivariate_normal(mu_1_vector, Sigma_1).pdf(x_2.T)\n",
    "p_x_2_given_k_2 = multivariate_normal(mu_2_vector, Sigma_2).pdf(x_2.T)\n",
    "p_x_3_given_k_1 = multivariate_normal(mu_1_vector, Sigma_1).pdf(x_3.T)\n",
    "p_x_3_given_k_2 = multivariate_normal(mu_2_vector, Sigma_2).pdf(x_3.T)\n",
    "\n",
    "for i in range(1, 4):\n",
    "  for j in range(1, 3):\n",
    "    print(f\"p(x_{i} | C = k_{j}) = {eval(f'p_x_{i}_given_k_{j}'):0.6g}\")"
   ]
  },
  {
   "cell_type": "code",
   "execution_count": 68,
   "metadata": {},
   "outputs": [
    {
     "name": "stdout",
     "output_type": "stream",
     "text": [
      "p(C = k_1 | x_1) = 0.0329204\n",
      "p(C = k_2 | x_1) = 0.0113997\n",
      "NORMALIZED p(C = k_1 | x_1) = 0.742788\n",
      "NORMALIZED p(C = k_2 | x_1) = 0.257212\n",
      "p(C = k_1 | x_2) = 0.00445529\n",
      "p(C = k_2 | x_2) = 0.0241331\n",
      "NORMALIZED p(C = k_1 | x_2) = 0.155843\n",
      "NORMALIZED p(C = k_2 | x_2) = 0.844157\n",
      "p(C = k_1 | x_3) = 0.0169019\n",
      "p(C = k_2 | x_3) = 0.0309875\n",
      "NORMALIZED p(C = k_1 | x_3) = 0.352936\n",
      "NORMALIZED p(C = k_2 | x_3) = 0.647064\n"
     ]
    }
   ],
   "source": [
    "posterior_x_1_k_1 = p_k1 * p_x_1_given_k_1\n",
    "posterior_x_1_k_2 = p_k2 * p_x_1_given_k_2\n",
    "normalized_posterior_x_1_k_1 = posterior_x_1_k_1 / (posterior_x_1_k_1 + posterior_x_1_k_2)\n",
    "normalized_posterior_x_1_k_2 = posterior_x_1_k_2 / (posterior_x_1_k_1 + posterior_x_1_k_2)\n",
    "\n",
    "posterior_x_2_k_1 = p_k1 * p_x_2_given_k_1\n",
    "posterior_x_2_k_2 = p_k2 * p_x_2_given_k_2\n",
    "normalized_posterior_x_2_k_1 = posterior_x_2_k_1 / (posterior_x_2_k_1 + posterior_x_2_k_2)\n",
    "normalized_posterior_x_2_k_2 = posterior_x_2_k_2 / (posterior_x_2_k_1 + posterior_x_2_k_2)\n",
    "\n",
    "posterior_x_3_k_1 = p_k1 * p_x_3_given_k_1\n",
    "posterior_x_3_k_2 = p_k2 * p_x_3_given_k_2\n",
    "normalized_posterior_x_3_k_1 = posterior_x_3_k_1 / (posterior_x_3_k_1 + posterior_x_3_k_2)\n",
    "normalized_posterior_x_3_k_2 = posterior_x_3_k_2 / (posterior_x_3_k_1 + posterior_x_3_k_2)\n",
    "\n",
    "print(f\"p(C = k_1 | x_1) = {posterior_x_1_k_1:0.6g}\")\n",
    "print(f\"p(C = k_2 | x_1) = {posterior_x_1_k_2:0.6g}\")\n",
    "print(f\"NORMALIZED p(C = k_1 | x_1) = {normalized_posterior_x_1_k_1:0.6g}\")\n",
    "print(f\"NORMALIZED p(C = k_2 | x_1) = {normalized_posterior_x_1_k_2:0.6g}\")\n",
    "\n",
    "print(f\"p(C = k_1 | x_2) = {posterior_x_2_k_1:0.6g}\")\n",
    "print(f\"p(C = k_2 | x_2) = {posterior_x_2_k_2:0.6g}\")\n",
    "print(f\"NORMALIZED p(C = k_1 | x_2) = {normalized_posterior_x_2_k_1:0.6g}\")\n",
    "print(f\"NORMALIZED p(C = k_2 | x_2) = {normalized_posterior_x_2_k_2:0.6g}\")\n",
    "\n",
    "print(f\"p(C = k_1 | x_3) = {posterior_x_3_k_1:0.6g}\")\n",
    "print(f\"p(C = k_2 | x_3) = {posterior_x_3_k_2:0.6g}\")\n",
    "print(f\"NORMALIZED p(C = k_1 | x_3) = {normalized_posterior_x_3_k_1:0.6g}\")\n",
    "print(f\"NORMALIZED p(C = k_2 | x_3) = {normalized_posterior_x_3_k_2:0.6g}\")"
   ]
  }
 ],
 "metadata": {
  "kernelspec": {
   "display_name": "Python 3.10.8 64-bit",
   "language": "python",
   "name": "python3"
  },
  "language_info": {
   "codemirror_mode": {
    "name": "ipython",
    "version": 3
   },
   "file_extension": ".py",
   "mimetype": "text/x-python",
   "name": "python",
   "nbconvert_exporter": "python",
   "pygments_lexer": "ipython3",
   "version": "3.10.8"
  },
  "orig_nbformat": 4,
  "vscode": {
   "interpreter": {
    "hash": "e7370f93d1d0cde622a1f8e1c04877d8463912d04d973331ad4851f04de6915a"
   }
  }
 },
 "nbformat": 4,
 "nbformat_minor": 2
}

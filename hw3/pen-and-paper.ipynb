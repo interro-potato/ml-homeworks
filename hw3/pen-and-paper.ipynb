{
 "cells": [
  {
   "cell_type": "markdown",
   "metadata": {},
   "source": [
    "# 1)"
   ]
  },
  {
   "cell_type": "code",
   "execution_count": 12,
   "metadata": {},
   "outputs": [
    {
     "name": "stdout",
     "output_type": "stream",
     "text": [
      "\\begin{bmatrix}\n",
      "  0.34168753 & -0.1214259 & -0.07490231 & -0.00932537\\\\\n",
      "  -0.1214259 & 0.3892078 & -0.09667718 & -0.07445624\\\\\n",
      "  -0.07490231 & -0.09667718 & 0.37257788 & -0.17135047\\\\\n",
      "  -0.00932537 & -0.07445624 & -0.17135047 & 0.17998796\\\\\n",
      "\\end{bmatrix}\n",
      "\\begin{bmatrix}\n",
      "  79.\\\\\n",
      "  88.6\\\\\n",
      "  105.96\\\\\n",
      "  134.392\\\\\n",
      "\\end{bmatrix}\n",
      "\\begin{bmatrix}\n",
      "  7.0450759\\\\\n",
      "  4.64092765\\\\\n",
      "  1.96734046\\\\\n",
      "  -1.30088142\\\\\n",
      "\\end{bmatrix}\n"
     ]
    }
   ],
   "source": [
    "import numpy as np\n",
    "\n",
    "# shamelessly stolen from stack overflow\n",
    "def bmatrix(a):\n",
    "    \"\"\"Returns a LaTeX bmatrix\n",
    "\n",
    "    :a: numpy array\n",
    "    :returns: LaTeX bmatrix as a string\n",
    "    \"\"\"\n",
    "    if len(a.shape) > 2:\n",
    "        raise ValueError('bmatrix can at most display two dimensions')\n",
    "    lines = str(a).replace('[', '').replace(']', '').splitlines()\n",
    "    rv = [r'\\begin{bmatrix}']\n",
    "    rv += ['  ' + ' & '.join(l.split()) + r'\\\\' for l in lines]\n",
    "    rv +=  [r'\\end{bmatrix}']\n",
    "    return '\\n'.join(rv)\n",
    "\n",
    "Phi = np.matrix([\n",
    "  [1, 0.8, 0.64, 0.512],\n",
    "  [1, 1, 1, 1],\n",
    "  [1, 1.2, 1.44, 1.728],\n",
    "  [1, 1.4, 1.96, 2.744],\n",
    "  [1, 1.6, 2.56, 4.096],\n",
    "])\n",
    "\n",
    "Phi_T = Phi.transpose()\n",
    "I = np.identity(4) * 2\n",
    "z = np.matrix([24, 20, 10, 13, 12]).transpose()\n",
    "\n",
    "left = np.linalg.inv(Phi_T * Phi + I)\n",
    "right = Phi_T * z\n",
    "\n",
    "print(bmatrix(left))\n",
    "print(bmatrix(right))\n",
    "print(bmatrix(left * right))"
   ]
  }
 ],
 "metadata": {
  "kernelspec": {
   "display_name": "Python 3.10.8 64-bit",
   "language": "python",
   "name": "python3"
  },
  "language_info": {
   "codemirror_mode": {
    "name": "ipython",
    "version": 3
   },
   "file_extension": ".py",
   "mimetype": "text/x-python",
   "name": "python",
   "nbconvert_exporter": "python",
   "pygments_lexer": "ipython3",
   "version": "3.10.8"
  },
  "orig_nbformat": 4,
  "vscode": {
   "interpreter": {
    "hash": "e7370f93d1d0cde622a1f8e1c04877d8463912d04d973331ad4851f04de6915a"
   }
  }
 },
 "nbformat": 4,
 "nbformat_minor": 2
}

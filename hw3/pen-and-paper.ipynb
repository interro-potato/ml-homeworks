{
 "cells": [
  {
   "cell_type": "markdown",
   "metadata": {},
   "source": [
    "# 1) + 2)"
   ]
  },
  {
   "cell_type": "code",
   "execution_count": 107,
   "metadata": {},
   "outputs": [],
   "source": [
    "import numpy as np\n",
    "from varname import nameof\n",
    "\n",
    "# adapted from stack overflow\n",
    "def bmatrix(a, var_name, exercise_number=3):\n",
    "    \"\"\"Stores in a file a LaTeX bmatrix from a numpy array.\"\"\"\n",
    "    if len(a.shape) > 2:\n",
    "        raise ValueError('bmatrix can at most display two dimensions')\n",
    "    lines = str(a).replace('[', '').replace(']', '').splitlines()\n",
    "    rv = [r'\\begin{bmatrix}']\n",
    "    rv += ['  ' + ' & '.join([f\"{float(x):.6g}\" for x in l.split()]) + r'\\\\' for l in lines]\n",
    "    rv +=  [r'\\end{bmatrix}']\n",
    "    with open(f\"./docs/aux-matrices/ex-{exercise_number}/{var_name}.tex\", 'w+') as f:\n",
    "      f.write('\\n'.join(rv))"
   ]
  },
  {
   "cell_type": "markdown",
   "metadata": {},
   "source": [
    "### First question"
   ]
  },
  {
   "cell_type": "code",
   "execution_count": 108,
   "metadata": {},
   "outputs": [],
   "source": [
    "Phi = np.matrix([\n",
    "  [1, 0.8, 0.64, 0.512],\n",
    "  [1, 1, 1, 1],\n",
    "  [1, 1.2, 1.44, 1.728],\n",
    "  [1, 1.4, 1.96, 2.744],\n",
    "  [1, 1.6, 2.56, 4.096],\n",
    "])\n",
    "\n",
    "bmatrix(Phi, nameof(Phi), exercise_number=1)\n",
    "\n",
    "Phi_T = Phi.transpose()\n",
    "I = np.identity(4) * 2\n",
    "bmatrix(I, nameof(I), exercise_number=1)\n",
    "z = np.matrix([24, 20, 10, 13, 12]).transpose()\n",
    "bmatrix(z, nameof(z), exercise_number=1)\n",
    "\n",
    "left = np.linalg.inv(np.add(np.matmul(Phi_T, Phi), I))\n",
    "bmatrix(left, nameof(left), exercise_number=1)\n",
    "right = np.matmul(Phi_T, z)\n",
    "bmatrix(right, nameof(right), exercise_number=1)\n",
    "w = np.matmul(left, right)\n",
    "bmatrix(w, nameof(w), exercise_number=1)"
   ]
  },
  {
   "cell_type": "markdown",
   "metadata": {},
   "source": [
    "### Second question"
   ]
  },
  {
   "cell_type": "code",
   "execution_count": 109,
   "metadata": {},
   "outputs": [
    {
     "name": "stdout",
     "output_type": "stream",
     "text": [
      "Training RMSE: 6.843294892094978\n"
     ]
    }
   ],
   "source": [
    "z_hat = np.matmul(Phi, w)\n",
    "bmatrix(z_hat, nameof(z_hat), exercise_number=2)\n",
    "n = len(z_hat)\n",
    "rmse = np.sqrt(np.sum(np.square(z_hat - z)) / n)\n",
    "print(f\"Training RMSE: {rmse}\")"
   ]
  },
  {
   "cell_type": "markdown",
   "metadata": {},
   "source": [
    "# 3)"
   ]
  },
  {
   "cell_type": "code",
   "execution_count": 110,
   "metadata": {},
   "outputs": [],
   "source": [
    "# NOTE: np.matmul is regular matrix multiplication, np.multiply is element-wise multiplication\n",
    "\n",
    "def activation(x):\n",
    "  return np.exp(0.1 * x)\n",
    "\n",
    "TARGET = np.array([[24, 20, 10]])\n",
    "\n",
    "x_0 = np.array([[0.8, 1, 1.2]])\n",
    "bmatrix(x_0, nameof(x_0))\n",
    "w_1 = np.array([[1], [1]])\n",
    "bmatrix(w_1, nameof(w_1))\n",
    "b_1 = np.array([[1], [1]])\n",
    "bmatrix(b_1, nameof(b_1))\n",
    "\n",
    "z_1 = np.matmul(w_1, x_0) + b_1\n",
    "bmatrix(z_1, nameof(z_1))\n",
    "x_1 = activation(z_1)\n",
    "bmatrix(x_1, nameof(x_1))\n",
    "\n",
    "w_2 = np.array([[1, 1]])\n",
    "bmatrix(w_2, nameof(w_2))\n",
    "b_2 = np.array([[1]])\n",
    "bmatrix(b_2, nameof(b_2))\n",
    "\n",
    "z_2 = np.matmul(w_2, x_1) + b_2\n",
    "bmatrix(z_2, nameof(z_2))\n",
    "x_2 = activation(z_2)\n",
    "bmatrix(x_2, nameof(x_2))"
   ]
  },
  {
   "cell_type": "code",
   "execution_count": 111,
   "metadata": {},
   "outputs": [],
   "source": [
    "# sum (x_2 - t), for every t in TARGET, store it in delta_sum\n",
    "delta_sum = np.array([x_2[i] - TARGET[i] for i in range(len(x_2))])\n",
    "bmatrix(delta_sum, nameof(delta_sum))\n",
    "d_x_2_z_2 = 0.1 * activation(z_2)\n",
    "bmatrix(d_x_2_z_2, nameof(d_x_2_z_2))\n",
    "\n",
    "# hadamard product\n",
    "delta_2 = np.multiply(delta_sum, d_x_2_z_2)\n",
    "bmatrix(delta_2, nameof(delta_2))\n",
    "\n",
    "d_z_2_x_1_T = w_2.transpose()\n",
    "bmatrix(d_z_2_x_1_T, nameof(d_z_2_x_1_T))\n",
    "d_x_1_z_1 = 0.1 * activation(z_1)\n",
    "bmatrix(d_x_1_z_1, nameof(d_x_1_z_1))\n",
    "left_delta_1 = np.matmul(d_z_2_x_1_T, delta_2)\n",
    "bmatrix(left_delta_1, nameof(left_delta_1))\n",
    "right_delta_1 = d_x_1_z_1\n",
    "bmatrix(right_delta_1, nameof(right_delta_1))\n",
    "delta_1 = np.multiply(left_delta_1, right_delta_1)\n",
    "bmatrix(delta_1, nameof(delta_1))"
   ]
  },
  {
   "cell_type": "code",
   "execution_count": 112,
   "metadata": {},
   "outputs": [],
   "source": [
    "d_E_w_1 = np.array([[0 for _ in range(len(w_1[0]))] for _ in range(len(w_1))])\n",
    "d_E_w_2 = np.array([[0 for _ in range(len(w_2[0]))] for _ in range(len(w_2))])\n",
    "transposed_delta_1 = delta_1.transpose()\n",
    "transposed_delta_2 = delta_2.transpose()\n",
    "transposed_x_0 = x_0.transpose()\n",
    "transposed_x_1 = x_1.transpose()\n",
    "for i in range(len(transposed_delta_1)):\n",
    "  column = np.array([transposed_x_0[i]])\n",
    "  delta_column = np.array([transposed_delta_1[i]]).transpose()\n",
    "  d_E_w_1 = np.add(d_E_w_1, np.matmul(delta_column, column))\n",
    "bmatrix(d_E_w_1, nameof(d_E_w_1))\n",
    "\n",
    "for i in range(len(transposed_delta_2)):\n",
    "  column = np.array([transposed_x_1[i]])\n",
    "  delta_column = np.array([transposed_delta_2[i]]).transpose()\n",
    "  d_E_w_2 = np.add(d_E_w_2, np.matmul(delta_column, column))\n",
    "bmatrix(d_E_w_2, nameof(d_E_w_2))\n",
    "\n",
    "d_E_b_1 = delta_1\n",
    "bmatrix(d_E_b_1, nameof(d_E_b_1))\n",
    "d_E_b_2 = delta_2\n",
    "bmatrix(d_E_b_2, nameof(d_E_b_2))"
   ]
  },
  {
   "cell_type": "code",
   "execution_count": 113,
   "metadata": {},
   "outputs": [],
   "source": [
    "LEARNING_RATE = 0.1\n",
    "\n",
    "w_1_after_update = np.subtract(w_1, LEARNING_RATE * d_E_w_1)\n",
    "bmatrix(w_1_after_update, nameof(w_1_after_update))\n",
    "w_2_after_update = np.subtract(w_2, LEARNING_RATE * d_E_w_2)\n",
    "bmatrix(w_2_after_update, nameof(w_2_after_update))\n",
    "\n",
    "b_1_lines_sum = LEARNING_RATE * np.array([[np.sum(d_E_b_1[i])] for i in range(len(d_E_b_1))])\n",
    "b_2_lines_sum = LEARNING_RATE * np.array([[np.sum(d_E_b_2[i])] for i in range(len(d_E_b_2))])\n",
    "\n",
    "bmatrix(b_1_lines_sum, nameof(b_1_lines_sum))\n",
    "bmatrix(b_2_lines_sum, nameof(b_2_lines_sum))\n",
    "\n",
    "b_1_after_update = np.subtract(b_1, b_1_lines_sum)\n",
    "bmatrix(b_1_after_update, nameof(b_1_after_update))\n",
    "b_2_after_update = np.subtract(b_2, b_2_lines_sum)\n",
    "bmatrix(b_2_after_update, nameof(b_2_after_update))"
   ]
  }
 ],
 "metadata": {
  "kernelspec": {
   "display_name": "Python 3.10.8 64-bit",
   "language": "python",
   "name": "python3"
  },
  "language_info": {
   "codemirror_mode": {
    "name": "ipython",
    "version": 3
   },
   "file_extension": ".py",
   "mimetype": "text/x-python",
   "name": "python",
   "nbconvert_exporter": "python",
   "pygments_lexer": "ipython3",
   "version": "3.10.8"
  },
  "orig_nbformat": 4,
  "vscode": {
   "interpreter": {
    "hash": "e7370f93d1d0cde622a1f8e1c04877d8463912d04d973331ad4851f04de6915a"
   }
  }
 },
 "nbformat": 4,
 "nbformat_minor": 2
}

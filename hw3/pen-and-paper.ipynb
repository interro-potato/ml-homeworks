{
 "cells": [
  {
   "cell_type": "markdown",
   "metadata": {},
   "source": [
    "# 1) + 2)"
   ]
  },
  {
   "cell_type": "code",
   "execution_count": 53,
   "metadata": {},
   "outputs": [],
   "source": [
    "import numpy as np\n",
    "\n",
    "# shamelessly stolen from stack overflow\n",
    "def bmatrix(a):\n",
    "    \"\"\"Returns a LaTeX bmatrix\n",
    "\n",
    "    :a: numpy array\n",
    "    :returns: LaTeX bmatrix as a string\n",
    "    \"\"\"\n",
    "    if len(a.shape) > 2:\n",
    "        raise ValueError('bmatrix can at most display two dimensions')\n",
    "    lines = str(a).replace('[', '').replace(']', '').splitlines()\n",
    "    rv = [r'\\begin{bmatrix}']\n",
    "    rv += ['  ' + ' & '.join(l.split()) + r'\\\\' for l in lines]\n",
    "    rv +=  [r'\\end{bmatrix}']\n",
    "    return '\\n'.join(rv)\n",
    "\n",
    "Phi = np.matrix([\n",
    "  [1, 0.8, 0.64, 0.512],\n",
    "  [1, 1, 1, 1],\n",
    "  [1, 1.2, 1.44, 1.728],\n",
    "  [1, 1.4, 1.96, 2.744],\n",
    "  [1, 1.6, 2.56, 4.096],\n",
    "])\n",
    "\n",
    "Phi_T = Phi.transpose()\n",
    "I = np.identity(4) * 2\n",
    "z = np.matrix([24, 20, 10, 13, 12]).transpose()\n",
    "\n",
    "left = np.linalg.inv(Phi_T * Phi + I)\n",
    "right = Phi_T * z\n",
    "w = left * right\n",
    "\n",
    "def print_first_question_matrices():\n",
    "  for matrix in [Phi, Phi_T, I, z, left, right, w]:\n",
    "    print(bmatrix(matrix))\n",
    "    print(\"---\")\n",
    "\n",
    "def print_second_question_results():\n",
    "  # compute the training RMSE for the learnt regression model\n",
    "  forecasts = Phi * w\n",
    "  print(\"z hat:\")\n",
    "  print(bmatrix(forecasts))\n",
    "  n = len(forecasts)\n",
    "  rmse = np.sqrt(np.sum(np.square(forecasts - z)) / n)\n",
    "  print(\"Training RMSE: {}\".format(rmse))"
   ]
  },
  {
   "cell_type": "code",
   "execution_count": 54,
   "metadata": {},
   "outputs": [
    {
     "name": "stdout",
     "output_type": "stream",
     "text": [
      "\\begin{bmatrix}\n",
      "  1. & 0.8 & 0.64 & 0.512\\\\\n",
      "  1. & 1. & 1. & 1.\\\\\n",
      "  1. & 1.2 & 1.44 & 1.728\\\\\n",
      "  1. & 1.4 & 1.96 & 2.744\\\\\n",
      "  1. & 1.6 & 2.56 & 4.096\\\\\n",
      "\\end{bmatrix}\n",
      "---\n",
      "\\begin{bmatrix}\n",
      "  1. & 1. & 1. & 1. & 1.\\\\\n",
      "  0.8 & 1. & 1.2 & 1.4 & 1.6\\\\\n",
      "  0.64 & 1. & 1.44 & 1.96 & 2.56\\\\\n",
      "  0.512 & 1. & 1.728 & 2.744 & 4.096\\\\\n",
      "\\end{bmatrix}\n",
      "---\n",
      "\\begin{bmatrix}\n",
      "  2. & 0. & 0. & 0.\\\\\n",
      "  0. & 2. & 0. & 0.\\\\\n",
      "  0. & 0. & 2. & 0.\\\\\n",
      "  0. & 0. & 0. & 2.\\\\\n",
      "\\end{bmatrix}\n",
      "---\n",
      "\\begin{bmatrix}\n",
      "  24\\\\\n",
      "  20\\\\\n",
      "  10\\\\\n",
      "  13\\\\\n",
      "  12\\\\\n",
      "\\end{bmatrix}\n",
      "---\n",
      "\\begin{bmatrix}\n",
      "  0.34168753 & -0.1214259 & -0.07490231 & -0.00932537\\\\\n",
      "  -0.1214259 & 0.3892078 & -0.09667718 & -0.07445624\\\\\n",
      "  -0.07490231 & -0.09667718 & 0.37257788 & -0.17135047\\\\\n",
      "  -0.00932537 & -0.07445624 & -0.17135047 & 0.17998796\\\\\n",
      "\\end{bmatrix}\n",
      "---\n",
      "\\begin{bmatrix}\n",
      "  79.\\\\\n",
      "  88.6\\\\\n",
      "  105.96\\\\\n",
      "  134.392\\\\\n",
      "\\end{bmatrix}\n",
      "---\n",
      "\\begin{bmatrix}\n",
      "  7.0450759\\\\\n",
      "  4.64092765\\\\\n",
      "  1.96734046\\\\\n",
      "  -1.30088142\\\\\n",
      "\\end{bmatrix}\n",
      "---\n"
     ]
    }
   ],
   "source": [
    "print_first_question_matrices()"
   ]
  },
  {
   "cell_type": "code",
   "execution_count": 55,
   "metadata": {},
   "outputs": [
    {
     "name": "stdout",
     "output_type": "stream",
     "text": [
      "z hat:\n",
      "\\begin{bmatrix}\n",
      "  11.35086463\\\\\n",
      "  12.35246259\\\\\n",
      "  13.19923625\\\\\n",
      "  13.8287433\\\\\n",
      "  14.17854143\\\\\n",
      "\\end{bmatrix}\n",
      "Training RMSE: 6.843294892094978\n"
     ]
    }
   ],
   "source": [
    "print_second_question_results()"
   ]
  },
  {
   "cell_type": "markdown",
   "metadata": {},
   "source": [
    "# 3)"
   ]
  },
  {
   "cell_type": "code",
   "execution_count": 56,
   "metadata": {},
   "outputs": [
    {
     "name": "stdout",
     "output_type": "stream",
     "text": [
      "z_1:\n",
      "\\begin{bmatrix}\n",
      "  4.\\\\\n",
      "  4.\\\\\n",
      "\\end{bmatrix}\n",
      "x_1:\n",
      "\\begin{bmatrix}\n",
      "  1.4918247\\\\\n",
      "  1.4918247\\\\\n",
      "\\end{bmatrix}\n",
      "z_2:\n",
      "\\begin{bmatrix}\n",
      "  3.9836494\\\\\n",
      "\\end{bmatrix}\n",
      "x_2:\n",
      "\\begin{bmatrix}\n",
      "  1.48938747\\\\\n",
      "\\end{bmatrix}\n"
     ]
    }
   ],
   "source": [
    "# activation function f is e^0.1x\n",
    "\n",
    "# NOTE: np.matmul is regular matrix multiplication, np.multiply is element-wise multiplication\n",
    "\n",
    "def activation(x):\n",
    "  return np.exp(0.1 * x)\n",
    "\n",
    "x_0 = np.array([[0.8, 1, 1.2]]).transpose()\n",
    "w_1 = np.array([[1, 1, 1], [1, 1, 1]])\n",
    "b_1 = np.array([[1, 1]]).transpose()\n",
    "\n",
    "z_1 = np.matmul(w_1, x_0) + b_1\n",
    "print(\"z_1:\")\n",
    "print(bmatrix(z_1))\n",
    "x_1 = activation(z_1)\n",
    "print(\"x_1:\")\n",
    "print(bmatrix(x_1))\n",
    "\n",
    "w_2 = np.array([[1, 1]])\n",
    "b_2 = np.array([[1]])\n",
    "\n",
    "z_2 = np.matmul(w_2, x_1) + b_2\n",
    "print(\"z_2:\")\n",
    "print(bmatrix(z_2))\n",
    "x_2 = activation(z_2)\n",
    "print(\"x_2:\")\n",
    "print(bmatrix(x_2))"
   ]
  },
  {
   "cell_type": "code",
   "execution_count": 57,
   "metadata": {},
   "outputs": [
    {
     "name": "stdout",
     "output_type": "stream",
     "text": [
      "d_E_x_2:\n",
      "\\begin{bmatrix}\n",
      "  0.24469373\\\\\n",
      "\\end{bmatrix}\n",
      "d_x_2_z_2:\n",
      "\\begin{bmatrix}\n",
      "  0.14893875\\\\\n",
      "\\end{bmatrix}\n",
      "delta_2:\n",
      "\\begin{bmatrix}\n",
      "  0.03644438\\\\\n",
      "\\end{bmatrix}\n",
      "d_z_2_x_1_T:\n",
      "\\begin{bmatrix}\n",
      "  1\\\\\n",
      "  1\\\\\n",
      "\\end{bmatrix}\n",
      "d_x_1_z_1:\n",
      "\\begin{bmatrix}\n",
      "  0.14918247\\\\\n",
      "  0.14918247\\\\\n",
      "\\end{bmatrix}\n",
      "delta_1:\n",
      "\\begin{bmatrix}\n",
      "  0.00543686\\\\\n",
      "  0.00543686\\\\\n",
      "\\end{bmatrix}\n"
     ]
    }
   ],
   "source": [
    "d_E_x_2 = 0.5 * (x_2 - 1)\n",
    "print(\"d_E_x_2:\")\n",
    "print(bmatrix(d_E_x_2))\n",
    "# d_x_2_z_2 is a column matrix, where each line is 0.1 * e^0.1z_2\n",
    "d_x_2_z_2 = 0.1 * np.exp(0.1 * z_2)\n",
    "print(\"d_x_2_z_2:\")\n",
    "print(bmatrix(d_x_2_z_2))\n",
    "\n",
    "# hadamard product\n",
    "delta_2 = np.multiply(d_E_x_2, d_x_2_z_2)\n",
    "print(\"delta_2:\")\n",
    "print(bmatrix(supposed_delta_2))\n",
    "\n",
    "d_z_2_x_1_T = w_2.transpose()\n",
    "print(\"d_z_2_x_1_T:\")\n",
    "print(bmatrix(d_z_2_x_1_T))\n",
    "d_x_1_z_1 = 0.1 * np.exp(0.1 * z_1)\n",
    "print(\"d_x_1_z_1:\")\n",
    "print(bmatrix(d_x_1_z_1))\n",
    "left = np.matmul(d_z_2_x_1_T, delta_2)\n",
    "right = d_x_1_z_1\n",
    "delta_1 = np.multiply(left, right)\n",
    "print(\"delta_1:\")\n",
    "print(bmatrix(delta_1))"
   ]
  },
  {
   "cell_type": "code",
   "execution_count": 58,
   "metadata": {},
   "outputs": [
    {
     "name": "stdout",
     "output_type": "stream",
     "text": [
      "d_E_w_1:\n",
      "\\begin{bmatrix}\n",
      "  0.00434949 & 0.00543686 & 0.00652423\\\\\n",
      "  0.00434949 & 0.00543686 & 0.00652423\\\\\n",
      "\\end{bmatrix}\n",
      "d_E_w_2:\n",
      "\\begin{bmatrix}\n",
      "  0.05436862 & 0.05436862\\\\\n",
      "\\end{bmatrix}\n",
      "d_E_b_1:\n",
      "\\begin{bmatrix}\n",
      "  0.00543686\\\\\n",
      "  0.00543686\\\\\n",
      "\\end{bmatrix}\n",
      "d_E_b_2:\n",
      "\\begin{bmatrix}\n",
      "  0.03644438\\\\\n",
      "\\end{bmatrix}\n"
     ]
    }
   ],
   "source": [
    "d_E_w_1 = np.multiply(delta_1, x_0.transpose())\n",
    "print(\"d_E_w_1:\")\n",
    "print(bmatrix(d_E_w_1))\n",
    "d_E_w_2 = np.multiply(delta_2, x_1.transpose())\n",
    "print(\"d_E_w_2:\")\n",
    "print(bmatrix(d_E_w_2))\n",
    "\n",
    "d_E_b_1 = delta_1\n",
    "print(\"d_E_b_1:\")\n",
    "print(bmatrix(d_E_b_1))\n",
    "d_E_b_2 = delta_2\n",
    "print(\"d_E_b_2:\")\n",
    "print(bmatrix(d_E_b_2))"
   ]
  },
  {
   "cell_type": "code",
   "execution_count": 59,
   "metadata": {},
   "outputs": [
    {
     "name": "stdout",
     "output_type": "stream",
     "text": [
      "w_1:\n",
      "\\begin{bmatrix}\n",
      "  0.99956505 & 0.99945631 & 0.99934758\\\\\n",
      "  0.99956505 & 0.99945631 & 0.99934758\\\\\n",
      "\\end{bmatrix}\n",
      "w_2:\n",
      "\\begin{bmatrix}\n",
      "  0.99456314 & 0.99456314\\\\\n",
      "\\end{bmatrix}\n",
      "b_1:\n",
      "\\begin{bmatrix}\n",
      "  0.99945631\\\\\n",
      "  0.99945631\\\\\n",
      "\\end{bmatrix}\n",
      "b_2:\n",
      "\\begin{bmatrix}\n",
      "  0.99635556\\\\\n",
      "\\end{bmatrix}\n"
     ]
    }
   ],
   "source": [
    "LEARNING_RATE = 0.1\n",
    "\n",
    "w_1 = w_1 - LEARNING_RATE * d_E_w_1\n",
    "print(\"w_1:\")\n",
    "print(bmatrix(w_1))\n",
    "w_2 = w_2 - LEARNING_RATE * d_E_w_2\n",
    "print(\"w_2:\")\n",
    "print(bmatrix(w_2))\n",
    "\n",
    "b_1 = b_1 - LEARNING_RATE * d_E_b_1\n",
    "print(\"b_1:\")\n",
    "print(bmatrix(b_1))\n",
    "b_2 = b_2 - LEARNING_RATE * d_E_b_2\n",
    "print(\"b_2:\")\n",
    "print(bmatrix(b_2))"
   ]
  }
 ],
 "metadata": {
  "kernelspec": {
   "display_name": "Python 3.10.8 64-bit",
   "language": "python",
   "name": "python3"
  },
  "language_info": {
   "codemirror_mode": {
    "name": "ipython",
    "version": 3
   },
   "file_extension": ".py",
   "mimetype": "text/x-python",
   "name": "python",
   "nbconvert_exporter": "python",
   "pygments_lexer": "ipython3",
   "version": "3.10.8"
  },
  "orig_nbformat": 4,
  "vscode": {
   "interpreter": {
    "hash": "e7370f93d1d0cde622a1f8e1c04877d8463912d04d973331ad4851f04de6915a"
   }
  }
 },
 "nbformat": 4,
 "nbformat_minor": 2
}

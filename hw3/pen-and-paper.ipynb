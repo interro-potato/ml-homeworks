{
 "cells": [
  {
   "cell_type": "markdown",
   "metadata": {},
   "source": [
    "# 1) + 2)"
   ]
  },
  {
   "cell_type": "code",
   "execution_count": 30,
   "metadata": {},
   "outputs": [],
   "source": [
    "import numpy as np\n",
    "\n",
    "# shamelessly stolen from stack overflow\n",
    "def bmatrix(a):\n",
    "    \"\"\"Returns a LaTeX bmatrix\n",
    "\n",
    "    :a: numpy array\n",
    "    :returns: LaTeX bmatrix as a string\n",
    "    \"\"\"\n",
    "    if len(a.shape) > 2:\n",
    "        raise ValueError('bmatrix can at most display two dimensions')\n",
    "    lines = str(a).replace('[', '').replace(']', '').splitlines()\n",
    "    rv = [r'\\begin{bmatrix}']\n",
    "    rv += ['  ' + ' & '.join(l.split()) + r'\\\\' for l in lines]\n",
    "    rv +=  [r'\\end{bmatrix}']\n",
    "    return '\\n'.join(rv)\n",
    "\n",
    "Phi = np.matrix([\n",
    "  [1, 0.8, 0.64, 0.512],\n",
    "  [1, 1, 1, 1],\n",
    "  [1, 1.2, 1.44, 1.728],\n",
    "  [1, 1.4, 1.96, 2.744],\n",
    "  [1, 1.6, 2.56, 4.096],\n",
    "])\n",
    "\n",
    "Phi_T = Phi.transpose()\n",
    "I = np.identity(4) * 2\n",
    "z = np.matrix([24, 20, 10, 13, 12]).transpose()\n",
    "\n",
    "left = np.linalg.inv(Phi_T * Phi + I)\n",
    "right = Phi_T * z\n",
    "w = left * right\n",
    "\n",
    "def print_first_question_matrices():\n",
    "  for matrix in [Phi, Phi_T, I, z, left, right, w]:\n",
    "    print(bmatrix(matrix))\n",
    "    print(\"---\")\n",
    "\n",
    "def print_second_question_results():\n",
    "  # compute the training RMSE for the learnt regression model\n",
    "  forecasts = Phi * w\n",
    "  print(\"z hat:\")\n",
    "  print(bmatrix(forecasts))\n",
    "  n = len(forecasts)\n",
    "  rmse = np.sqrt(np.sum(np.square(forecasts - z)) / n)\n",
    "  print(\"Training RMSE: {}\".format(rmse))"
   ]
  },
  {
   "cell_type": "code",
   "execution_count": null,
   "metadata": {},
   "outputs": [],
   "source": [
    "print_first_question_matrices()"
   ]
  },
  {
   "cell_type": "code",
   "execution_count": 31,
   "metadata": {},
   "outputs": [
    {
     "name": "stdout",
     "output_type": "stream",
     "text": [
      "z hat:\n",
      "\\begin{bmatrix}\n",
      "  11.35086463\\\\\n",
      "  12.35246259\\\\\n",
      "  13.19923625\\\\\n",
      "  13.8287433\\\\\n",
      "  14.17854143\\\\\n",
      "\\end{bmatrix}\n",
      "Training RMSE: 6.843294892094978\n"
     ]
    }
   ],
   "source": [
    "print_second_question_results()"
   ]
  },
  {
   "cell_type": "markdown",
   "metadata": {},
   "source": [
    "# 3)"
   ]
  },
  {
   "cell_type": "code",
   "execution_count": 36,
   "metadata": {},
   "outputs": [
    {
     "name": "stdout",
     "output_type": "stream",
     "text": [
      "\\begin{bmatrix}\n",
      "  4.\\\\\n",
      "  4.\\\\\n",
      "  4.\\\\\n",
      "\\end{bmatrix}\n",
      "\\begin{bmatrix}\n",
      "  1.4918247\\\\\n",
      "  1.4918247\\\\\n",
      "  1.4918247\\\\\n",
      "\\end{bmatrix}\n",
      "\\begin{bmatrix}\n",
      "  5.47547409\\\\\n",
      "  5.47547409\\\\\n",
      "\\end{bmatrix}\n",
      "\\begin{bmatrix}\n",
      "  1.72900727\\\\\n",
      "  1.72900727\\\\\n",
      "\\end{bmatrix}\n"
     ]
    }
   ],
   "source": [
    "# activation function f is e^0.1x\n",
    "\n",
    "def activation(x):\n",
    "  return np.exp(0.1 * x)\n",
    "\n",
    "x_0 = np.matrix([0.8, 1, 1.2]).transpose()\n",
    "w_1 = np.matrix([[1, 1, 1], [1, 1, 1], [1, 1, 1]]).transpose()\n",
    "b_1 = np.matrix([[1, 1, 1]]).transpose()\n",
    "\n",
    "z_1 = w_1 * x_0 + b_1\n",
    "print(bmatrix(z_1))\n",
    "x_1 = activation(z_1)\n",
    "print(bmatrix(x_1))\n",
    "\n",
    "w_2 = np.matrix([[1, 1], [1, 1], [1, 1]]).transpose()\n",
    "b_2 = np.matrix([[1, 1]]).transpose()\n",
    "\n",
    "z_2 = w_2 * x_1 + b_2\n",
    "print(bmatrix(z_2))\n",
    "x_2 = activation(z_2)\n",
    "print(bmatrix(x_2))"
   ]
  }
 ],
 "metadata": {
  "kernelspec": {
   "display_name": "Python 3.10.8 64-bit",
   "language": "python",
   "name": "python3"
  },
  "language_info": {
   "codemirror_mode": {
    "name": "ipython",
    "version": 3
   },
   "file_extension": ".py",
   "mimetype": "text/x-python",
   "name": "python",
   "nbconvert_exporter": "python",
   "pygments_lexer": "ipython3",
   "version": "3.10.8"
  },
  "orig_nbformat": 4,
  "vscode": {
   "interpreter": {
    "hash": "e7370f93d1d0cde622a1f8e1c04877d8463912d04d973331ad4851f04de6915a"
   }
  }
 },
 "nbformat": 4,
 "nbformat_minor": 2
}
